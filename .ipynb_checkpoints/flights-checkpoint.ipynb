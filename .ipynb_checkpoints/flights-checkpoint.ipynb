{
 "cells": [
  {
   "cell_type": "markdown",
   "id": "a4ee2690",
   "metadata": {},
   "source": [
    "# Seaborn 'flights' data seti üzerinde çalışma"
   ]
  },
  {
   "cell_type": "markdown",
   "id": "d8981513",
   "metadata": {},
   "source": [
    "* **flights** <br>\n",
    "_Yıl ve aylara göre yapılan uçak kazalarında ölen insanların sayısını tutan veri setidir._\n",
    "    * year: Kazanın yapıldığı yıl (1949- 1960)\n",
    "    * month: Kazanın yapıldığı ay\n",
    "    * passengers: Yolcu sayısı (104-622)"
   ]
  },
  {
   "cell_type": "code",
   "execution_count": 3,
   "id": "71e1ef58",
   "metadata": {},
   "outputs": [],
   "source": [
    "import pandas as pd\n",
    "import numpy as np\n",
    "import seaborn as sns\n",
    "import matplotlib.pyplot as plt\n",
    "flights = sns.load_dataset(\"flights\")\n",
    "df = flights.copy()"
   ]
  },
  {
   "cell_type": "code",
   "execution_count": 4,
   "id": "b65ed1ac",
   "metadata": {},
   "outputs": [
    {
     "data": {
      "text/html": [
       "<div>\n",
       "<style scoped>\n",
       "    .dataframe tbody tr th:only-of-type {\n",
       "        vertical-align: middle;\n",
       "    }\n",
       "\n",
       "    .dataframe tbody tr th {\n",
       "        vertical-align: top;\n",
       "    }\n",
       "\n",
       "    .dataframe thead th {\n",
       "        text-align: right;\n",
       "    }\n",
       "</style>\n",
       "<table border=\"1\" class=\"dataframe\">\n",
       "  <thead>\n",
       "    <tr style=\"text-align: right;\">\n",
       "      <th></th>\n",
       "      <th>year</th>\n",
       "      <th>month</th>\n",
       "      <th>passengers</th>\n",
       "    </tr>\n",
       "  </thead>\n",
       "  <tbody>\n",
       "    <tr>\n",
       "      <th>0</th>\n",
       "      <td>1949</td>\n",
       "      <td>Jan</td>\n",
       "      <td>112</td>\n",
       "    </tr>\n",
       "    <tr>\n",
       "      <th>1</th>\n",
       "      <td>1949</td>\n",
       "      <td>Feb</td>\n",
       "      <td>118</td>\n",
       "    </tr>\n",
       "    <tr>\n",
       "      <th>2</th>\n",
       "      <td>1949</td>\n",
       "      <td>Mar</td>\n",
       "      <td>132</td>\n",
       "    </tr>\n",
       "    <tr>\n",
       "      <th>3</th>\n",
       "      <td>1949</td>\n",
       "      <td>Apr</td>\n",
       "      <td>129</td>\n",
       "    </tr>\n",
       "    <tr>\n",
       "      <th>4</th>\n",
       "      <td>1949</td>\n",
       "      <td>May</td>\n",
       "      <td>121</td>\n",
       "    </tr>\n",
       "  </tbody>\n",
       "</table>\n",
       "</div>"
      ],
      "text/plain": [
       "   year month  passengers\n",
       "0  1949   Jan         112\n",
       "1  1949   Feb         118\n",
       "2  1949   Mar         132\n",
       "3  1949   Apr         129\n",
       "4  1949   May         121"
      ]
     },
     "execution_count": 4,
     "metadata": {},
     "output_type": "execute_result"
    }
   ],
   "source": [
    "df.head()"
   ]
  },
  {
   "cell_type": "markdown",
   "id": "29a0ca37",
   "metadata": {},
   "source": [
    "# Veri seti üzerinden bilgi edinme"
   ]
  },
  {
   "cell_type": "code",
   "execution_count": 5,
   "id": "7578846e",
   "metadata": {},
   "outputs": [
    {
     "data": {
      "text/html": [
       "<div>\n",
       "<style scoped>\n",
       "    .dataframe tbody tr th:only-of-type {\n",
       "        vertical-align: middle;\n",
       "    }\n",
       "\n",
       "    .dataframe tbody tr th {\n",
       "        vertical-align: top;\n",
       "    }\n",
       "\n",
       "    .dataframe thead th {\n",
       "        text-align: right;\n",
       "    }\n",
       "</style>\n",
       "<table border=\"1\" class=\"dataframe\">\n",
       "  <thead>\n",
       "    <tr style=\"text-align: right;\">\n",
       "      <th></th>\n",
       "      <th>count</th>\n",
       "      <th>mean</th>\n",
       "      <th>std</th>\n",
       "      <th>min</th>\n",
       "      <th>25%</th>\n",
       "      <th>50%</th>\n",
       "      <th>75%</th>\n",
       "      <th>max</th>\n",
       "    </tr>\n",
       "  </thead>\n",
       "  <tbody>\n",
       "    <tr>\n",
       "      <th>year</th>\n",
       "      <td>144.0</td>\n",
       "      <td>1954.500000</td>\n",
       "      <td>3.464102</td>\n",
       "      <td>1949.0</td>\n",
       "      <td>1951.75</td>\n",
       "      <td>1954.5</td>\n",
       "      <td>1957.25</td>\n",
       "      <td>1960.0</td>\n",
       "    </tr>\n",
       "    <tr>\n",
       "      <th>passengers</th>\n",
       "      <td>144.0</td>\n",
       "      <td>280.298611</td>\n",
       "      <td>119.966317</td>\n",
       "      <td>104.0</td>\n",
       "      <td>180.00</td>\n",
       "      <td>265.5</td>\n",
       "      <td>360.50</td>\n",
       "      <td>622.0</td>\n",
       "    </tr>\n",
       "  </tbody>\n",
       "</table>\n",
       "</div>"
      ],
      "text/plain": [
       "            count         mean         std     min      25%     50%      75%  \\\n",
       "year        144.0  1954.500000    3.464102  1949.0  1951.75  1954.5  1957.25   \n",
       "passengers  144.0   280.298611  119.966317   104.0   180.00   265.5   360.50   \n",
       "\n",
       "               max  \n",
       "year        1960.0  \n",
       "passengers   622.0  "
      ]
     },
     "execution_count": 5,
     "metadata": {},
     "output_type": "execute_result"
    }
   ],
   "source": [
    "df.describe().T"
   ]
  },
  {
   "cell_type": "code",
   "execution_count": 6,
   "id": "db7e98a1",
   "metadata": {},
   "outputs": [
    {
     "data": {
      "text/plain": [
       "<bound method DataFrame.info of      year month  passengers\n",
       "0    1949   Jan         112\n",
       "1    1949   Feb         118\n",
       "2    1949   Mar         132\n",
       "3    1949   Apr         129\n",
       "4    1949   May         121\n",
       "..    ...   ...         ...\n",
       "139  1960   Aug         606\n",
       "140  1960   Sep         508\n",
       "141  1960   Oct         461\n",
       "142  1960   Nov         390\n",
       "143  1960   Dec         432\n",
       "\n",
       "[144 rows x 3 columns]>"
      ]
     },
     "execution_count": 6,
     "metadata": {},
     "output_type": "execute_result"
    }
   ],
   "source": [
    "df.info"
   ]
  },
  {
   "cell_type": "code",
   "execution_count": 7,
   "id": "7056d75e",
   "metadata": {},
   "outputs": [
    {
     "data": {
      "text/plain": [
       "year             int64\n",
       "month         category\n",
       "passengers       int64\n",
       "dtype: object"
      ]
     },
     "execution_count": 7,
     "metadata": {},
     "output_type": "execute_result"
    }
   ],
   "source": [
    "df.dtypes"
   ]
  },
  {
   "cell_type": "code",
   "execution_count": 8,
   "id": "05ec8bd3",
   "metadata": {},
   "outputs": [
    {
     "data": {
      "text/plain": [
       "(144, 3)"
      ]
     },
     "execution_count": 8,
     "metadata": {},
     "output_type": "execute_result"
    }
   ],
   "source": [
    "df.shape"
   ]
  },
  {
   "cell_type": "code",
   "execution_count": 9,
   "id": "5f760e1c",
   "metadata": {},
   "outputs": [
    {
     "data": {
      "text/plain": [
       "432"
      ]
     },
     "execution_count": 9,
     "metadata": {},
     "output_type": "execute_result"
    }
   ],
   "source": [
    "df.size"
   ]
  },
  {
   "cell_type": "code",
   "execution_count": 10,
   "id": "b33a0758",
   "metadata": {},
   "outputs": [
    {
     "data": {
      "text/plain": [
       "RangeIndex(start=0, stop=144, step=1)"
      ]
     },
     "execution_count": 10,
     "metadata": {},
     "output_type": "execute_result"
    }
   ],
   "source": [
    "df.index"
   ]
  },
  {
   "cell_type": "code",
   "execution_count": 11,
   "id": "0d9f5993",
   "metadata": {},
   "outputs": [
    {
     "data": {
      "text/plain": [
       "array([[1949, 'Jan', 112],\n",
       "       [1949, 'Feb', 118],\n",
       "       [1949, 'Mar', 132],\n",
       "       [1949, 'Apr', 129],\n",
       "       [1949, 'May', 121],\n",
       "       [1949, 'Jun', 135],\n",
       "       [1949, 'Jul', 148],\n",
       "       [1949, 'Aug', 148],\n",
       "       [1949, 'Sep', 136],\n",
       "       [1949, 'Oct', 119],\n",
       "       [1949, 'Nov', 104],\n",
       "       [1949, 'Dec', 118],\n",
       "       [1950, 'Jan', 115],\n",
       "       [1950, 'Feb', 126],\n",
       "       [1950, 'Mar', 141],\n",
       "       [1950, 'Apr', 135],\n",
       "       [1950, 'May', 125],\n",
       "       [1950, 'Jun', 149],\n",
       "       [1950, 'Jul', 170],\n",
       "       [1950, 'Aug', 170],\n",
       "       [1950, 'Sep', 158],\n",
       "       [1950, 'Oct', 133],\n",
       "       [1950, 'Nov', 114],\n",
       "       [1950, 'Dec', 140],\n",
       "       [1951, 'Jan', 145],\n",
       "       [1951, 'Feb', 150],\n",
       "       [1951, 'Mar', 178],\n",
       "       [1951, 'Apr', 163],\n",
       "       [1951, 'May', 172],\n",
       "       [1951, 'Jun', 178],\n",
       "       [1951, 'Jul', 199],\n",
       "       [1951, 'Aug', 199],\n",
       "       [1951, 'Sep', 184],\n",
       "       [1951, 'Oct', 162],\n",
       "       [1951, 'Nov', 146],\n",
       "       [1951, 'Dec', 166],\n",
       "       [1952, 'Jan', 171],\n",
       "       [1952, 'Feb', 180],\n",
       "       [1952, 'Mar', 193],\n",
       "       [1952, 'Apr', 181],\n",
       "       [1952, 'May', 183],\n",
       "       [1952, 'Jun', 218],\n",
       "       [1952, 'Jul', 230],\n",
       "       [1952, 'Aug', 242],\n",
       "       [1952, 'Sep', 209],\n",
       "       [1952, 'Oct', 191],\n",
       "       [1952, 'Nov', 172],\n",
       "       [1952, 'Dec', 194],\n",
       "       [1953, 'Jan', 196],\n",
       "       [1953, 'Feb', 196],\n",
       "       [1953, 'Mar', 236],\n",
       "       [1953, 'Apr', 235],\n",
       "       [1953, 'May', 229],\n",
       "       [1953, 'Jun', 243],\n",
       "       [1953, 'Jul', 264],\n",
       "       [1953, 'Aug', 272],\n",
       "       [1953, 'Sep', 237],\n",
       "       [1953, 'Oct', 211],\n",
       "       [1953, 'Nov', 180],\n",
       "       [1953, 'Dec', 201],\n",
       "       [1954, 'Jan', 204],\n",
       "       [1954, 'Feb', 188],\n",
       "       [1954, 'Mar', 235],\n",
       "       [1954, 'Apr', 227],\n",
       "       [1954, 'May', 234],\n",
       "       [1954, 'Jun', 264],\n",
       "       [1954, 'Jul', 302],\n",
       "       [1954, 'Aug', 293],\n",
       "       [1954, 'Sep', 259],\n",
       "       [1954, 'Oct', 229],\n",
       "       [1954, 'Nov', 203],\n",
       "       [1954, 'Dec', 229],\n",
       "       [1955, 'Jan', 242],\n",
       "       [1955, 'Feb', 233],\n",
       "       [1955, 'Mar', 267],\n",
       "       [1955, 'Apr', 269],\n",
       "       [1955, 'May', 270],\n",
       "       [1955, 'Jun', 315],\n",
       "       [1955, 'Jul', 364],\n",
       "       [1955, 'Aug', 347],\n",
       "       [1955, 'Sep', 312],\n",
       "       [1955, 'Oct', 274],\n",
       "       [1955, 'Nov', 237],\n",
       "       [1955, 'Dec', 278],\n",
       "       [1956, 'Jan', 284],\n",
       "       [1956, 'Feb', 277],\n",
       "       [1956, 'Mar', 317],\n",
       "       [1956, 'Apr', 313],\n",
       "       [1956, 'May', 318],\n",
       "       [1956, 'Jun', 374],\n",
       "       [1956, 'Jul', 413],\n",
       "       [1956, 'Aug', 405],\n",
       "       [1956, 'Sep', 355],\n",
       "       [1956, 'Oct', 306],\n",
       "       [1956, 'Nov', 271],\n",
       "       [1956, 'Dec', 306],\n",
       "       [1957, 'Jan', 315],\n",
       "       [1957, 'Feb', 301],\n",
       "       [1957, 'Mar', 356],\n",
       "       [1957, 'Apr', 348],\n",
       "       [1957, 'May', 355],\n",
       "       [1957, 'Jun', 422],\n",
       "       [1957, 'Jul', 465],\n",
       "       [1957, 'Aug', 467],\n",
       "       [1957, 'Sep', 404],\n",
       "       [1957, 'Oct', 347],\n",
       "       [1957, 'Nov', 305],\n",
       "       [1957, 'Dec', 336],\n",
       "       [1958, 'Jan', 340],\n",
       "       [1958, 'Feb', 318],\n",
       "       [1958, 'Mar', 362],\n",
       "       [1958, 'Apr', 348],\n",
       "       [1958, 'May', 363],\n",
       "       [1958, 'Jun', 435],\n",
       "       [1958, 'Jul', 491],\n",
       "       [1958, 'Aug', 505],\n",
       "       [1958, 'Sep', 404],\n",
       "       [1958, 'Oct', 359],\n",
       "       [1958, 'Nov', 310],\n",
       "       [1958, 'Dec', 337],\n",
       "       [1959, 'Jan', 360],\n",
       "       [1959, 'Feb', 342],\n",
       "       [1959, 'Mar', 406],\n",
       "       [1959, 'Apr', 396],\n",
       "       [1959, 'May', 420],\n",
       "       [1959, 'Jun', 472],\n",
       "       [1959, 'Jul', 548],\n",
       "       [1959, 'Aug', 559],\n",
       "       [1959, 'Sep', 463],\n",
       "       [1959, 'Oct', 407],\n",
       "       [1959, 'Nov', 362],\n",
       "       [1959, 'Dec', 405],\n",
       "       [1960, 'Jan', 417],\n",
       "       [1960, 'Feb', 391],\n",
       "       [1960, 'Mar', 419],\n",
       "       [1960, 'Apr', 461],\n",
       "       [1960, 'May', 472],\n",
       "       [1960, 'Jun', 535],\n",
       "       [1960, 'Jul', 622],\n",
       "       [1960, 'Aug', 606],\n",
       "       [1960, 'Sep', 508],\n",
       "       [1960, 'Oct', 461],\n",
       "       [1960, 'Nov', 390],\n",
       "       [1960, 'Dec', 432]], dtype=object)"
      ]
     },
     "execution_count": 11,
     "metadata": {},
     "output_type": "execute_result"
    }
   ],
   "source": [
    "df.values"
   ]
  },
  {
   "cell_type": "code",
   "execution_count": 13,
   "id": "c4c2cfd0",
   "metadata": {},
   "outputs": [
    {
     "data": {
      "text/plain": [
       "Index(['year', 'month', 'passengers'], dtype='object')"
      ]
     },
     "execution_count": 13,
     "metadata": {},
     "output_type": "execute_result"
    }
   ],
   "source": [
    "df.columns"
   ]
  },
  {
   "cell_type": "markdown",
   "id": "3d185224",
   "metadata": {},
   "source": [
    "# Kategorik değişkenlerle tablo yapmak"
   ]
  },
  {
   "cell_type": "code",
   "execution_count": null,
   "id": "0e86f5d4",
   "metadata": {},
   "outputs": [],
   "source": []
  }
 ],
 "metadata": {
  "kernelspec": {
   "display_name": "Python 3 (ipykernel)",
   "language": "python",
   "name": "python3"
  },
  "language_info": {
   "codemirror_mode": {
    "name": "ipython",
    "version": 3
   },
   "file_extension": ".py",
   "mimetype": "text/x-python",
   "name": "python",
   "nbconvert_exporter": "python",
   "pygments_lexer": "ipython3",
   "version": "3.9.7"
  }
 },
 "nbformat": 4,
 "nbformat_minor": 5
}
