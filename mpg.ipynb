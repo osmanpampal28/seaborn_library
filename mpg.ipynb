{
 "cells": [
  {
   "cell_type": "markdown",
   "id": "a920ea21",
   "metadata": {},
   "source": [
    "# Seaborn 'mpg' Veri Seti Üzerinde Çalışma"
   ]
  },
  {
   "cell_type": "markdown",
   "id": "08697b3d",
   "metadata": {},
   "source": [
    "* **mpg** <br>\n",
    "_Arabaların özelliklerine göre sıralandığı veri setidir._\n",
    "    * mpg: 1 galon benzin ile katedilen yol (1 galon = 3.7 L, 1 mil = 1.6 Km)(9-46.6)\n",
    "    * cylinders: Arabada bulunan silindir sayısı\n",
    "    * displacement: Motor hacmi (68-455)\n",
    "    * horsepower: Beygir gücü (46-230)\n",
    "    * weight: Ağırlık (1613-5140)\n",
    "    * acceleration: Saniye cinsinden 0-100 Km/s hıza ulaşma süresi (8-24.8)\n",
    "    * model_year: 1900'lü yıllara göre araba modeli yılı (70-82)\n",
    "    * origin: Arabanın üretim yılı\n",
    "    * name: Arabanın model ismi"
   ]
  },
  {
   "cell_type": "code",
   "execution_count": 2,
   "id": "87c99aa8",
   "metadata": {},
   "outputs": [],
   "source": [
    "import pandas as pd\n",
    "import numpy as np\n",
    "import seaborn as sns\n",
    "import matplotlib.pyplot as plt\n",
    "mpg = sns.load_dataset(\"mpg\")\n",
    "df = mpg.copy()"
   ]
  },
  {
   "cell_type": "code",
   "execution_count": 3,
   "id": "c8d3b77a",
   "metadata": {},
   "outputs": [
    {
     "data": {
      "text/html": [
       "<div>\n",
       "<style scoped>\n",
       "    .dataframe tbody tr th:only-of-type {\n",
       "        vertical-align: middle;\n",
       "    }\n",
       "\n",
       "    .dataframe tbody tr th {\n",
       "        vertical-align: top;\n",
       "    }\n",
       "\n",
       "    .dataframe thead th {\n",
       "        text-align: right;\n",
       "    }\n",
       "</style>\n",
       "<table border=\"1\" class=\"dataframe\">\n",
       "  <thead>\n",
       "    <tr style=\"text-align: right;\">\n",
       "      <th></th>\n",
       "      <th>mpg</th>\n",
       "      <th>cylinders</th>\n",
       "      <th>displacement</th>\n",
       "      <th>horsepower</th>\n",
       "      <th>weight</th>\n",
       "      <th>acceleration</th>\n",
       "      <th>model_year</th>\n",
       "      <th>origin</th>\n",
       "      <th>name</th>\n",
       "    </tr>\n",
       "  </thead>\n",
       "  <tbody>\n",
       "    <tr>\n",
       "      <th>0</th>\n",
       "      <td>18.0</td>\n",
       "      <td>8</td>\n",
       "      <td>307.0</td>\n",
       "      <td>130.0</td>\n",
       "      <td>3504</td>\n",
       "      <td>12.0</td>\n",
       "      <td>70</td>\n",
       "      <td>usa</td>\n",
       "      <td>chevrolet chevelle malibu</td>\n",
       "    </tr>\n",
       "    <tr>\n",
       "      <th>1</th>\n",
       "      <td>15.0</td>\n",
       "      <td>8</td>\n",
       "      <td>350.0</td>\n",
       "      <td>165.0</td>\n",
       "      <td>3693</td>\n",
       "      <td>11.5</td>\n",
       "      <td>70</td>\n",
       "      <td>usa</td>\n",
       "      <td>buick skylark 320</td>\n",
       "    </tr>\n",
       "    <tr>\n",
       "      <th>2</th>\n",
       "      <td>18.0</td>\n",
       "      <td>8</td>\n",
       "      <td>318.0</td>\n",
       "      <td>150.0</td>\n",
       "      <td>3436</td>\n",
       "      <td>11.0</td>\n",
       "      <td>70</td>\n",
       "      <td>usa</td>\n",
       "      <td>plymouth satellite</td>\n",
       "    </tr>\n",
       "    <tr>\n",
       "      <th>3</th>\n",
       "      <td>16.0</td>\n",
       "      <td>8</td>\n",
       "      <td>304.0</td>\n",
       "      <td>150.0</td>\n",
       "      <td>3433</td>\n",
       "      <td>12.0</td>\n",
       "      <td>70</td>\n",
       "      <td>usa</td>\n",
       "      <td>amc rebel sst</td>\n",
       "    </tr>\n",
       "    <tr>\n",
       "      <th>4</th>\n",
       "      <td>17.0</td>\n",
       "      <td>8</td>\n",
       "      <td>302.0</td>\n",
       "      <td>140.0</td>\n",
       "      <td>3449</td>\n",
       "      <td>10.5</td>\n",
       "      <td>70</td>\n",
       "      <td>usa</td>\n",
       "      <td>ford torino</td>\n",
       "    </tr>\n",
       "  </tbody>\n",
       "</table>\n",
       "</div>"
      ],
      "text/plain": [
       "    mpg  cylinders  displacement  horsepower  weight  acceleration  \\\n",
       "0  18.0          8         307.0       130.0    3504          12.0   \n",
       "1  15.0          8         350.0       165.0    3693          11.5   \n",
       "2  18.0          8         318.0       150.0    3436          11.0   \n",
       "3  16.0          8         304.0       150.0    3433          12.0   \n",
       "4  17.0          8         302.0       140.0    3449          10.5   \n",
       "\n",
       "   model_year origin                       name  \n",
       "0          70    usa  chevrolet chevelle malibu  \n",
       "1          70    usa          buick skylark 320  \n",
       "2          70    usa         plymouth satellite  \n",
       "3          70    usa              amc rebel sst  \n",
       "4          70    usa                ford torino  "
      ]
     },
     "execution_count": 3,
     "metadata": {},
     "output_type": "execute_result"
    }
   ],
   "source": [
    "df.head()"
   ]
  },
  {
   "cell_type": "markdown",
   "id": "7e9e9e7a",
   "metadata": {},
   "source": [
    "# Veri seti üzerinden bilgi edinme"
   ]
  },
  {
   "cell_type": "code",
   "execution_count": 4,
   "id": "e9a32898",
   "metadata": {},
   "outputs": [
    {
     "data": {
      "text/html": [
       "<div>\n",
       "<style scoped>\n",
       "    .dataframe tbody tr th:only-of-type {\n",
       "        vertical-align: middle;\n",
       "    }\n",
       "\n",
       "    .dataframe tbody tr th {\n",
       "        vertical-align: top;\n",
       "    }\n",
       "\n",
       "    .dataframe thead th {\n",
       "        text-align: right;\n",
       "    }\n",
       "</style>\n",
       "<table border=\"1\" class=\"dataframe\">\n",
       "  <thead>\n",
       "    <tr style=\"text-align: right;\">\n",
       "      <th></th>\n",
       "      <th>count</th>\n",
       "      <th>mean</th>\n",
       "      <th>std</th>\n",
       "      <th>min</th>\n",
       "      <th>25%</th>\n",
       "      <th>50%</th>\n",
       "      <th>75%</th>\n",
       "      <th>max</th>\n",
       "    </tr>\n",
       "  </thead>\n",
       "  <tbody>\n",
       "    <tr>\n",
       "      <th>mpg</th>\n",
       "      <td>398.0</td>\n",
       "      <td>23.514573</td>\n",
       "      <td>7.815984</td>\n",
       "      <td>9.0</td>\n",
       "      <td>17.500</td>\n",
       "      <td>23.0</td>\n",
       "      <td>29.000</td>\n",
       "      <td>46.6</td>\n",
       "    </tr>\n",
       "    <tr>\n",
       "      <th>cylinders</th>\n",
       "      <td>398.0</td>\n",
       "      <td>5.454774</td>\n",
       "      <td>1.701004</td>\n",
       "      <td>3.0</td>\n",
       "      <td>4.000</td>\n",
       "      <td>4.0</td>\n",
       "      <td>8.000</td>\n",
       "      <td>8.0</td>\n",
       "    </tr>\n",
       "    <tr>\n",
       "      <th>displacement</th>\n",
       "      <td>398.0</td>\n",
       "      <td>193.425879</td>\n",
       "      <td>104.269838</td>\n",
       "      <td>68.0</td>\n",
       "      <td>104.250</td>\n",
       "      <td>148.5</td>\n",
       "      <td>262.000</td>\n",
       "      <td>455.0</td>\n",
       "    </tr>\n",
       "    <tr>\n",
       "      <th>horsepower</th>\n",
       "      <td>392.0</td>\n",
       "      <td>104.469388</td>\n",
       "      <td>38.491160</td>\n",
       "      <td>46.0</td>\n",
       "      <td>75.000</td>\n",
       "      <td>93.5</td>\n",
       "      <td>126.000</td>\n",
       "      <td>230.0</td>\n",
       "    </tr>\n",
       "    <tr>\n",
       "      <th>weight</th>\n",
       "      <td>398.0</td>\n",
       "      <td>2970.424623</td>\n",
       "      <td>846.841774</td>\n",
       "      <td>1613.0</td>\n",
       "      <td>2223.750</td>\n",
       "      <td>2803.5</td>\n",
       "      <td>3608.000</td>\n",
       "      <td>5140.0</td>\n",
       "    </tr>\n",
       "    <tr>\n",
       "      <th>acceleration</th>\n",
       "      <td>398.0</td>\n",
       "      <td>15.568090</td>\n",
       "      <td>2.757689</td>\n",
       "      <td>8.0</td>\n",
       "      <td>13.825</td>\n",
       "      <td>15.5</td>\n",
       "      <td>17.175</td>\n",
       "      <td>24.8</td>\n",
       "    </tr>\n",
       "    <tr>\n",
       "      <th>model_year</th>\n",
       "      <td>398.0</td>\n",
       "      <td>76.010050</td>\n",
       "      <td>3.697627</td>\n",
       "      <td>70.0</td>\n",
       "      <td>73.000</td>\n",
       "      <td>76.0</td>\n",
       "      <td>79.000</td>\n",
       "      <td>82.0</td>\n",
       "    </tr>\n",
       "  </tbody>\n",
       "</table>\n",
       "</div>"
      ],
      "text/plain": [
       "              count         mean         std     min       25%     50%  \\\n",
       "mpg           398.0    23.514573    7.815984     9.0    17.500    23.0   \n",
       "cylinders     398.0     5.454774    1.701004     3.0     4.000     4.0   \n",
       "displacement  398.0   193.425879  104.269838    68.0   104.250   148.5   \n",
       "horsepower    392.0   104.469388   38.491160    46.0    75.000    93.5   \n",
       "weight        398.0  2970.424623  846.841774  1613.0  2223.750  2803.5   \n",
       "acceleration  398.0    15.568090    2.757689     8.0    13.825    15.5   \n",
       "model_year    398.0    76.010050    3.697627    70.0    73.000    76.0   \n",
       "\n",
       "                   75%     max  \n",
       "mpg             29.000    46.6  \n",
       "cylinders        8.000     8.0  \n",
       "displacement   262.000   455.0  \n",
       "horsepower     126.000   230.0  \n",
       "weight        3608.000  5140.0  \n",
       "acceleration    17.175    24.8  \n",
       "model_year      79.000    82.0  "
      ]
     },
     "execution_count": 4,
     "metadata": {},
     "output_type": "execute_result"
    }
   ],
   "source": [
    "df.describe().T"
   ]
  },
  {
   "cell_type": "code",
   "execution_count": 5,
   "id": "83e87ea2",
   "metadata": {},
   "outputs": [
    {
     "data": {
      "text/plain": [
       "<bound method DataFrame.info of       mpg  cylinders  displacement  horsepower  weight  acceleration  \\\n",
       "0    18.0          8         307.0       130.0    3504          12.0   \n",
       "1    15.0          8         350.0       165.0    3693          11.5   \n",
       "2    18.0          8         318.0       150.0    3436          11.0   \n",
       "3    16.0          8         304.0       150.0    3433          12.0   \n",
       "4    17.0          8         302.0       140.0    3449          10.5   \n",
       "..    ...        ...           ...         ...     ...           ...   \n",
       "393  27.0          4         140.0        86.0    2790          15.6   \n",
       "394  44.0          4          97.0        52.0    2130          24.6   \n",
       "395  32.0          4         135.0        84.0    2295          11.6   \n",
       "396  28.0          4         120.0        79.0    2625          18.6   \n",
       "397  31.0          4         119.0        82.0    2720          19.4   \n",
       "\n",
       "     model_year  origin                       name  \n",
       "0            70     usa  chevrolet chevelle malibu  \n",
       "1            70     usa          buick skylark 320  \n",
       "2            70     usa         plymouth satellite  \n",
       "3            70     usa              amc rebel sst  \n",
       "4            70     usa                ford torino  \n",
       "..          ...     ...                        ...  \n",
       "393          82     usa            ford mustang gl  \n",
       "394          82  europe                  vw pickup  \n",
       "395          82     usa              dodge rampage  \n",
       "396          82     usa                ford ranger  \n",
       "397          82     usa                 chevy s-10  \n",
       "\n",
       "[398 rows x 9 columns]>"
      ]
     },
     "execution_count": 5,
     "metadata": {},
     "output_type": "execute_result"
    }
   ],
   "source": [
    "df.info"
   ]
  },
  {
   "cell_type": "code",
   "execution_count": 6,
   "id": "0afcf704",
   "metadata": {},
   "outputs": [
    {
     "data": {
      "text/plain": [
       "mpg             float64\n",
       "cylinders         int64\n",
       "displacement    float64\n",
       "horsepower      float64\n",
       "weight            int64\n",
       "acceleration    float64\n",
       "model_year        int64\n",
       "origin           object\n",
       "name             object\n",
       "dtype: object"
      ]
     },
     "execution_count": 6,
     "metadata": {},
     "output_type": "execute_result"
    }
   ],
   "source": [
    "df.dtypes"
   ]
  },
  {
   "cell_type": "code",
   "execution_count": 7,
   "id": "a504e0cd",
   "metadata": {},
   "outputs": [
    {
     "data": {
      "text/plain": [
       "(398, 9)"
      ]
     },
     "execution_count": 7,
     "metadata": {},
     "output_type": "execute_result"
    }
   ],
   "source": [
    "df.shape"
   ]
  },
  {
   "cell_type": "code",
   "execution_count": 8,
   "id": "8c006833",
   "metadata": {},
   "outputs": [
    {
     "data": {
      "text/plain": [
       "3582"
      ]
     },
     "execution_count": 8,
     "metadata": {},
     "output_type": "execute_result"
    }
   ],
   "source": [
    "df.size"
   ]
  },
  {
   "cell_type": "code",
   "execution_count": 9,
   "id": "cd381a9a",
   "metadata": {},
   "outputs": [
    {
     "data": {
      "text/plain": [
       "RangeIndex(start=0, stop=398, step=1)"
      ]
     },
     "execution_count": 9,
     "metadata": {},
     "output_type": "execute_result"
    }
   ],
   "source": [
    "df.index"
   ]
  },
  {
   "cell_type": "code",
   "execution_count": 10,
   "id": "b1c91c2f",
   "metadata": {},
   "outputs": [
    {
     "data": {
      "text/plain": [
       "array([[18.0, 8, 307.0, ..., 70, 'usa', 'chevrolet chevelle malibu'],\n",
       "       [15.0, 8, 350.0, ..., 70, 'usa', 'buick skylark 320'],\n",
       "       [18.0, 8, 318.0, ..., 70, 'usa', 'plymouth satellite'],\n",
       "       ...,\n",
       "       [32.0, 4, 135.0, ..., 82, 'usa', 'dodge rampage'],\n",
       "       [28.0, 4, 120.0, ..., 82, 'usa', 'ford ranger'],\n",
       "       [31.0, 4, 119.0, ..., 82, 'usa', 'chevy s-10']], dtype=object)"
      ]
     },
     "execution_count": 10,
     "metadata": {},
     "output_type": "execute_result"
    }
   ],
   "source": [
    "df.values"
   ]
  },
  {
   "cell_type": "code",
   "execution_count": 11,
   "id": "af7b4db9",
   "metadata": {},
   "outputs": [
    {
     "data": {
      "text/plain": [
       "Index(['mpg', 'cylinders', 'displacement', 'horsepower', 'weight',\n",
       "       'acceleration', 'model_year', 'origin', 'name'],\n",
       "      dtype='object')"
      ]
     },
     "execution_count": 11,
     "metadata": {},
     "output_type": "execute_result"
    }
   ],
   "source": [
    "df.columns"
   ]
  },
  {
   "cell_type": "code",
   "execution_count": 12,
   "id": "aed44f14",
   "metadata": {},
   "outputs": [
    {
     "data": {
      "text/plain": [
       "8.0"
      ]
     },
     "execution_count": 12,
     "metadata": {},
     "output_type": "execute_result"
    }
   ],
   "source": [
    "min(df.acceleration)"
   ]
  },
  {
   "cell_type": "code",
   "execution_count": 13,
   "id": "0a1c2bd8",
   "metadata": {},
   "outputs": [
    {
     "data": {
      "text/plain": [
       "24.8"
      ]
     },
     "execution_count": 13,
     "metadata": {},
     "output_type": "execute_result"
    }
   ],
   "source": [
    "max(df.acceleration)"
   ]
  },
  {
   "cell_type": "code",
   "execution_count": 15,
   "id": "824991a0",
   "metadata": {},
   "outputs": [
    {
     "data": {
      "text/plain": [
       "70"
      ]
     },
     "execution_count": 15,
     "metadata": {},
     "output_type": "execute_result"
    }
   ],
   "source": [
    "min(df.model_year)"
   ]
  },
  {
   "cell_type": "code",
   "execution_count": 16,
   "id": "5604034d",
   "metadata": {},
   "outputs": [
    {
     "data": {
      "text/plain": [
       "82"
      ]
     },
     "execution_count": 16,
     "metadata": {},
     "output_type": "execute_result"
    }
   ],
   "source": [
    "max(df.model_year)"
   ]
  },
  {
   "cell_type": "code",
   "execution_count": 17,
   "id": "00dfa0d0",
   "metadata": {},
   "outputs": [
    {
     "data": {
      "text/plain": [
       "46.0"
      ]
     },
     "execution_count": 17,
     "metadata": {},
     "output_type": "execute_result"
    }
   ],
   "source": [
    "min(df.horsepower)"
   ]
  },
  {
   "cell_type": "code",
   "execution_count": 18,
   "id": "8803514d",
   "metadata": {},
   "outputs": [
    {
     "data": {
      "text/plain": [
       "230.0"
      ]
     },
     "execution_count": 18,
     "metadata": {},
     "output_type": "execute_result"
    }
   ],
   "source": [
    "max(df.horsepower)"
   ]
  },
  {
   "cell_type": "markdown",
   "id": "b8ef417c",
   "metadata": {},
   "source": [
    "# Kategorik Değişkenlerle Tablo Yapmak"
   ]
  },
  {
   "cell_type": "code",
   "execution_count": 19,
   "id": "ed1140d6",
   "metadata": {},
   "outputs": [
    {
     "data": {
      "text/plain": [
       "mpg             float64\n",
       "cylinders         int64\n",
       "displacement    float64\n",
       "horsepower      float64\n",
       "weight            int64\n",
       "acceleration    float64\n",
       "model_year        int64\n",
       "origin           object\n",
       "name             object\n",
       "dtype: object"
      ]
     },
     "execution_count": 19,
     "metadata": {},
     "output_type": "execute_result"
    }
   ],
   "source": [
    "df.dtypes"
   ]
  },
  {
   "cell_type": "code",
   "execution_count": 20,
   "id": "89c2446e",
   "metadata": {},
   "outputs": [
    {
     "data": {
      "text/plain": [
       "array(['usa', 'usa', 'usa', 'usa', 'usa', 'usa', 'usa', 'usa', 'usa',\n",
       "       'usa', 'usa', 'usa', 'usa', 'usa', 'japan', 'usa', 'usa', 'usa',\n",
       "       'japan', 'europe', 'europe', 'europe', 'europe', 'europe', 'usa',\n",
       "       'usa', 'usa', 'usa', 'usa', 'japan', 'usa', 'japan', 'usa', 'usa',\n",
       "       'usa', 'usa', 'usa', 'usa', 'usa', 'usa', 'usa', 'usa', 'usa',\n",
       "       'usa', 'usa', 'usa', 'usa', 'usa', 'usa', 'usa', 'europe',\n",
       "       'europe', 'europe', 'japan', 'japan', 'europe', 'usa', 'japan',\n",
       "       'usa', 'europe', 'usa', 'usa', 'usa', 'usa', 'usa', 'usa', 'usa',\n",
       "       'usa', 'usa', 'usa', 'usa', 'japan', 'usa', 'usa', 'usa', 'usa',\n",
       "       'europe', 'europe', 'europe', 'europe', 'usa', 'japan', 'japan',\n",
       "       'usa', 'japan', 'usa', 'usa', 'usa', 'usa', 'usa', 'usa', 'usa',\n",
       "       'usa', 'usa', 'usa', 'usa', 'usa', 'usa', 'usa', 'usa', 'usa',\n",
       "       'usa', 'europe', 'usa', 'usa', 'usa', 'usa', 'usa', 'japan', 'usa',\n",
       "       'japan', 'japan', 'usa', 'usa', 'europe', 'usa', 'usa', 'europe',\n",
       "       'europe', 'europe', 'europe', 'usa', 'europe', 'japan', 'usa',\n",
       "       'usa', 'usa', 'usa', 'usa', 'japan', 'usa', 'japan', 'usa', 'usa',\n",
       "       'usa', 'usa', 'usa', 'usa', 'usa', 'usa', 'usa', 'europe',\n",
       "       'europe', 'europe', 'japan', 'japan', 'usa', 'europe', 'europe',\n",
       "       'japan', 'japan', 'europe', 'usa', 'usa', 'usa', 'usa', 'usa',\n",
       "       'usa', 'usa', 'usa', 'usa', 'usa', 'usa', 'usa', 'usa', 'usa',\n",
       "       'usa', 'japan', 'usa', 'usa', 'usa', 'japan', 'europe', 'japan',\n",
       "       'usa', 'europe', 'usa', 'europe', 'europe', 'europe', 'europe',\n",
       "       'japan', 'europe', 'europe', 'usa', 'usa', 'europe', 'usa', 'usa',\n",
       "       'usa', 'usa', 'usa', 'usa', 'usa', 'usa', 'usa', 'usa', 'europe',\n",
       "       'japan', 'usa', 'usa', 'usa', 'usa', 'europe', 'japan', 'japan',\n",
       "       'usa', 'europe', 'usa', 'europe', 'japan', 'europe', 'usa', 'usa',\n",
       "       'usa', 'usa', 'japan', 'usa', 'europe', 'usa', 'japan', 'usa',\n",
       "       'usa', 'usa', 'usa', 'usa', 'usa', 'usa', 'usa', 'usa', 'usa',\n",
       "       'usa', 'usa', 'europe', 'usa', 'japan', 'usa', 'usa', 'usa',\n",
       "       'japan', 'europe', 'japan', 'europe', 'japan', 'europe', 'usa',\n",
       "       'japan', 'japan', 'japan', 'usa', 'usa', 'usa', 'usa', 'usa',\n",
       "       'usa', 'usa', 'usa', 'usa', 'usa', 'usa', 'usa', 'usa', 'usa',\n",
       "       'usa', 'usa', 'usa', 'usa', 'japan', 'japan', 'usa', 'japan',\n",
       "       'usa', 'usa', 'japan', 'europe', 'europe', 'europe', 'europe',\n",
       "       'europe', 'japan', 'usa', 'usa', 'usa', 'usa', 'usa', 'usa', 'usa',\n",
       "       'usa', 'usa', 'usa', 'usa', 'usa', 'usa', 'europe', 'japan', 'usa',\n",
       "       'usa', 'europe', 'usa', 'europe', 'usa', 'usa', 'usa', 'japan',\n",
       "       'europe', 'usa', 'usa', 'usa', 'usa', 'europe', 'japan', 'usa',\n",
       "       'japan', 'usa', 'usa', 'usa', 'usa', 'europe', 'japan', 'japan',\n",
       "       'japan', 'japan', 'japan', 'usa', 'japan', 'europe', 'europe',\n",
       "       'europe', 'europe', 'japan', 'europe', 'japan', 'europe', 'japan',\n",
       "       'japan', 'europe', 'usa', 'japan', 'usa', 'usa', 'usa', 'usa',\n",
       "       'usa', 'japan', 'usa', 'japan', 'japan', 'japan', 'japan', 'japan',\n",
       "       'usa', 'usa', 'usa', 'europe', 'europe', 'japan', 'japan', 'japan',\n",
       "       'japan', 'europe', 'europe', 'japan', 'japan', 'usa', 'usa', 'usa',\n",
       "       'usa', 'usa', 'usa', 'usa', 'usa', 'usa', 'usa', 'usa', 'usa',\n",
       "       'europe', 'japan', 'japan', 'usa', 'usa', 'japan', 'japan',\n",
       "       'japan', 'japan', 'japan', 'japan', 'usa', 'usa', 'usa', 'usa',\n",
       "       'japan', 'usa', 'usa', 'usa', 'europe', 'usa', 'usa', 'usa'],\n",
       "      dtype=object)"
      ]
     },
     "execution_count": 20,
     "metadata": {},
     "output_type": "execute_result"
    }
   ],
   "source": [
    "df.origin.values"
   ]
  },
  {
   "cell_type": "code",
   "execution_count": 21,
   "id": "09d26a54",
   "metadata": {},
   "outputs": [
    {
     "data": {
      "text/plain": [
       "usa       249\n",
       "japan      79\n",
       "europe     70\n",
       "Name: origin, dtype: int64"
      ]
     },
     "execution_count": 21,
     "metadata": {},
     "output_type": "execute_result"
    }
   ],
   "source": [
    "df.origin.value_counts()"
   ]
  },
  {
   "cell_type": "code",
   "execution_count": 23,
   "id": "c3a11e50",
   "metadata": {},
   "outputs": [
    {
     "data": {
      "text/plain": [
       "array(['chevrolet chevelle malibu', 'buick skylark 320',\n",
       "       'plymouth satellite', 'amc rebel sst', 'ford torino',\n",
       "       'ford galaxie 500', 'chevrolet impala', 'plymouth fury iii',\n",
       "       'pontiac catalina', 'amc ambassador dpl', 'dodge challenger se',\n",
       "       \"plymouth 'cuda 340\", 'chevrolet monte carlo',\n",
       "       'buick estate wagon (sw)', 'toyota corona mark ii',\n",
       "       'plymouth duster', 'amc hornet', 'ford maverick', 'datsun pl510',\n",
       "       'volkswagen 1131 deluxe sedan', 'peugeot 504', 'audi 100 ls',\n",
       "       'saab 99e', 'bmw 2002', 'amc gremlin', 'ford f250', 'chevy c20',\n",
       "       'dodge d200', 'hi 1200d', 'datsun pl510', 'chevrolet vega 2300',\n",
       "       'toyota corona', 'ford pinto', 'amc gremlin',\n",
       "       'plymouth satellite custom', 'chevrolet chevelle malibu',\n",
       "       'ford torino 500', 'amc matador', 'chevrolet impala',\n",
       "       'pontiac catalina brougham', 'ford galaxie 500',\n",
       "       'plymouth fury iii', 'dodge monaco (sw)',\n",
       "       'ford country squire (sw)', 'pontiac safari (sw)',\n",
       "       'amc hornet sportabout (sw)', 'chevrolet vega (sw)',\n",
       "       'pontiac firebird', 'ford mustang', 'mercury capri 2000',\n",
       "       'opel 1900', 'peugeot 304', 'fiat 124b', 'toyota corolla 1200',\n",
       "       'datsun 1200', 'volkswagen model 111', 'plymouth cricket',\n",
       "       'toyota corona hardtop', 'dodge colt hardtop', 'volkswagen type 3',\n",
       "       'chevrolet vega', 'ford pinto runabout', 'chevrolet impala',\n",
       "       'pontiac catalina', 'plymouth fury iii', 'ford galaxie 500',\n",
       "       'amc ambassador sst', 'mercury marquis', 'buick lesabre custom',\n",
       "       'oldsmobile delta 88 royale', 'chrysler newport royal',\n",
       "       'mazda rx2 coupe', 'amc matador (sw)',\n",
       "       'chevrolet chevelle concours (sw)', 'ford gran torino (sw)',\n",
       "       'plymouth satellite custom (sw)', 'volvo 145e (sw)',\n",
       "       'volkswagen 411 (sw)', 'peugeot 504 (sw)', 'renault 12 (sw)',\n",
       "       'ford pinto (sw)', 'datsun 510 (sw)',\n",
       "       'toyouta corona mark ii (sw)', 'dodge colt (sw)',\n",
       "       'toyota corolla 1600 (sw)', 'buick century 350', 'amc matador',\n",
       "       'chevrolet malibu', 'ford gran torino', 'dodge coronet custom',\n",
       "       'mercury marquis brougham', 'chevrolet caprice classic',\n",
       "       'ford ltd', 'plymouth fury gran sedan',\n",
       "       'chrysler new yorker brougham', 'buick electra 225 custom',\n",
       "       'amc ambassador brougham', 'plymouth valiant',\n",
       "       'chevrolet nova custom', 'amc hornet', 'ford maverick',\n",
       "       'plymouth duster', 'volkswagen super beetle', 'chevrolet impala',\n",
       "       'ford country', 'plymouth custom suburb',\n",
       "       'oldsmobile vista cruiser', 'amc gremlin', 'toyota carina',\n",
       "       'chevrolet vega', 'datsun 610', 'maxda rx3', 'ford pinto',\n",
       "       'mercury capri v6', 'fiat 124 sport coupe',\n",
       "       'chevrolet monte carlo s', 'pontiac grand prix', 'fiat 128',\n",
       "       'opel manta', 'audi 100ls', 'volvo 144ea', 'dodge dart custom',\n",
       "       'saab 99le', 'toyota mark ii', 'oldsmobile omega',\n",
       "       'plymouth duster', 'ford maverick', 'amc hornet', 'chevrolet nova',\n",
       "       'datsun b210', 'ford pinto', 'toyota corolla 1200',\n",
       "       'chevrolet vega', 'chevrolet chevelle malibu classic',\n",
       "       'amc matador', 'plymouth satellite sebring', 'ford gran torino',\n",
       "       'buick century luxus (sw)', 'dodge coronet custom (sw)',\n",
       "       'ford gran torino (sw)', 'amc matador (sw)', 'audi fox',\n",
       "       'volkswagen dasher', 'opel manta', 'toyota corona', 'datsun 710',\n",
       "       'dodge colt', 'fiat 128', 'fiat 124 tc', 'honda civic', 'subaru',\n",
       "       'fiat x1.9', 'plymouth valiant custom', 'chevrolet nova',\n",
       "       'mercury monarch', 'ford maverick', 'pontiac catalina',\n",
       "       'chevrolet bel air', 'plymouth grand fury', 'ford ltd',\n",
       "       'buick century', 'chevroelt chevelle malibu', 'amc matador',\n",
       "       'plymouth fury', 'buick skyhawk', 'chevrolet monza 2+2',\n",
       "       'ford mustang ii', 'toyota corolla', 'ford pinto', 'amc gremlin',\n",
       "       'pontiac astro', 'toyota corona', 'volkswagen dasher',\n",
       "       'datsun 710', 'ford pinto', 'volkswagen rabbit', 'amc pacer',\n",
       "       'audi 100ls', 'peugeot 504', 'volvo 244dl', 'saab 99le',\n",
       "       'honda civic cvcc', 'fiat 131', 'opel 1900', 'capri ii',\n",
       "       'dodge colt', 'renault 12tl', 'chevrolet chevelle malibu classic',\n",
       "       'dodge coronet brougham', 'amc matador', 'ford gran torino',\n",
       "       'plymouth valiant', 'chevrolet nova', 'ford maverick',\n",
       "       'amc hornet', 'chevrolet chevette', 'chevrolet woody', 'vw rabbit',\n",
       "       'honda civic', 'dodge aspen se', 'ford granada ghia',\n",
       "       'pontiac ventura sj', 'amc pacer d/l', 'volkswagen rabbit',\n",
       "       'datsun b-210', 'toyota corolla', 'ford pinto', 'volvo 245',\n",
       "       'plymouth volare premier v8', 'peugeot 504', 'toyota mark ii',\n",
       "       'mercedes-benz 280s', 'cadillac seville', 'chevy c10', 'ford f108',\n",
       "       'dodge d100', 'honda accord cvcc', 'buick opel isuzu deluxe',\n",
       "       'renault 5 gtl', 'plymouth arrow gs', 'datsun f-10 hatchback',\n",
       "       'chevrolet caprice classic', 'oldsmobile cutlass supreme',\n",
       "       'dodge monaco brougham', 'mercury cougar brougham',\n",
       "       'chevrolet concours', 'buick skylark', 'plymouth volare custom',\n",
       "       'ford granada', 'pontiac grand prix lj',\n",
       "       'chevrolet monte carlo landau', 'chrysler cordoba',\n",
       "       'ford thunderbird', 'volkswagen rabbit custom',\n",
       "       'pontiac sunbird coupe', 'toyota corolla liftback',\n",
       "       'ford mustang ii 2+2', 'chevrolet chevette', 'dodge colt m/m',\n",
       "       'subaru dl', 'volkswagen dasher', 'datsun 810', 'bmw 320i',\n",
       "       'mazda rx-4', 'volkswagen rabbit custom diesel', 'ford fiesta',\n",
       "       'mazda glc deluxe', 'datsun b210 gx', 'honda civic cvcc',\n",
       "       'oldsmobile cutlass salon brougham', 'dodge diplomat',\n",
       "       'mercury monarch ghia', 'pontiac phoenix lj', 'chevrolet malibu',\n",
       "       'ford fairmont (auto)', 'ford fairmont (man)', 'plymouth volare',\n",
       "       'amc concord', 'buick century special', 'mercury zephyr',\n",
       "       'dodge aspen', 'amc concord d/l', 'chevrolet monte carlo landau',\n",
       "       'buick regal sport coupe (turbo)', 'ford futura',\n",
       "       'dodge magnum xe', 'chevrolet chevette', 'toyota corona',\n",
       "       'datsun 510', 'dodge omni', 'toyota celica gt liftback',\n",
       "       'plymouth sapporo', 'oldsmobile starfire sx', 'datsun 200-sx',\n",
       "       'audi 5000', 'volvo 264gl', 'saab 99gle', 'peugeot 604sl',\n",
       "       'volkswagen scirocco', 'honda accord lx', 'pontiac lemans v6',\n",
       "       'mercury zephyr 6', 'ford fairmont 4', 'amc concord dl 6',\n",
       "       'dodge aspen 6', 'chevrolet caprice classic', 'ford ltd landau',\n",
       "       'mercury grand marquis', 'dodge st. regis',\n",
       "       'buick estate wagon (sw)', 'ford country squire (sw)',\n",
       "       'chevrolet malibu classic (sw)',\n",
       "       'chrysler lebaron town @ country (sw)', 'vw rabbit custom',\n",
       "       'maxda glc deluxe', 'dodge colt hatchback custom', 'amc spirit dl',\n",
       "       'mercedes benz 300d', 'cadillac eldorado', 'peugeot 504',\n",
       "       'oldsmobile cutlass salon brougham', 'plymouth horizon',\n",
       "       'plymouth horizon tc3', 'datsun 210', 'fiat strada custom',\n",
       "       'buick skylark limited', 'chevrolet citation',\n",
       "       'oldsmobile omega brougham', 'pontiac phoenix', 'vw rabbit',\n",
       "       'toyota corolla tercel', 'chevrolet chevette', 'datsun 310',\n",
       "       'chevrolet citation', 'ford fairmont', 'amc concord',\n",
       "       'dodge aspen', 'audi 4000', 'toyota corona liftback', 'mazda 626',\n",
       "       'datsun 510 hatchback', 'toyota corolla', 'mazda glc',\n",
       "       'dodge colt', 'datsun 210', 'vw rabbit c (diesel)',\n",
       "       'vw dasher (diesel)', 'audi 5000s (diesel)', 'mercedes-benz 240d',\n",
       "       'honda civic 1500 gl', 'renault lecar deluxe', 'subaru dl',\n",
       "       'vokswagen rabbit', 'datsun 280-zx', 'mazda rx-7 gs',\n",
       "       'triumph tr7 coupe', 'ford mustang cobra', 'honda accord',\n",
       "       'plymouth reliant', 'buick skylark', 'dodge aries wagon (sw)',\n",
       "       'chevrolet citation', 'plymouth reliant', 'toyota starlet',\n",
       "       'plymouth champ', 'honda civic 1300', 'subaru', 'datsun 210 mpg',\n",
       "       'toyota tercel', 'mazda glc 4', 'plymouth horizon 4',\n",
       "       'ford escort 4w', 'ford escort 2h', 'volkswagen jetta',\n",
       "       'renault 18i', 'honda prelude', 'toyota corolla', 'datsun 200sx',\n",
       "       'mazda 626', 'peugeot 505s turbo diesel', 'volvo diesel',\n",
       "       'toyota cressida', 'datsun 810 maxima', 'buick century',\n",
       "       'oldsmobile cutlass ls', 'ford granada gl',\n",
       "       'chrysler lebaron salon', 'chevrolet cavalier',\n",
       "       'chevrolet cavalier wagon', 'chevrolet cavalier 2-door',\n",
       "       'pontiac j2000 se hatchback', 'dodge aries se', 'pontiac phoenix',\n",
       "       'ford fairmont futura', 'amc concord dl', 'volkswagen rabbit l',\n",
       "       'mazda glc custom l', 'mazda glc custom', 'plymouth horizon miser',\n",
       "       'mercury lynx l', 'nissan stanza xe', 'honda accord',\n",
       "       'toyota corolla', 'honda civic', 'honda civic (auto)',\n",
       "       'datsun 310 gx', 'buick century limited',\n",
       "       'oldsmobile cutlass ciera (diesel)', 'chrysler lebaron medallion',\n",
       "       'ford granada l', 'toyota celica gt', 'dodge charger 2.2',\n",
       "       'chevrolet camaro', 'ford mustang gl', 'vw pickup',\n",
       "       'dodge rampage', 'ford ranger', 'chevy s-10'], dtype=object)"
      ]
     },
     "execution_count": 23,
     "metadata": {},
     "output_type": "execute_result"
    }
   ],
   "source": [
    "df.name.values"
   ]
  },
  {
   "cell_type": "code",
   "execution_count": 24,
   "id": "e549a0b8",
   "metadata": {},
   "outputs": [
    {
     "data": {
      "text/plain": [
       "ford pinto             6\n",
       "toyota corolla         5\n",
       "amc matador            5\n",
       "ford maverick          5\n",
       "chevrolet chevette     4\n",
       "                      ..\n",
       "chevrolet monza 2+2    1\n",
       "ford mustang ii        1\n",
       "pontiac astro          1\n",
       "amc pacer              1\n",
       "chevy s-10             1\n",
       "Name: name, Length: 305, dtype: int64"
      ]
     },
     "execution_count": 24,
     "metadata": {},
     "output_type": "execute_result"
    }
   ],
   "source": [
    "df.name.value_counts()"
   ]
  },
  {
   "cell_type": "code",
   "execution_count": 25,
   "id": "d343b303",
   "metadata": {},
   "outputs": [
    {
     "data": {
      "text/plain": [
       "<AxesSubplot:>"
      ]
     },
     "execution_count": 25,
     "metadata": {},
     "output_type": "execute_result"
    },
    {
     "data": {
      "image/png": "[encoded data removed]",
      "text/plain": [
       "<Figure size 432x288 with 1 Axes>"
      ]
     },
     "metadata": {
      "needs_background": "light"
     },
     "output_type": "display_data"
    }
   ],
   "source": [
    "df.origin.value_counts().plot.barh()"
   ]
  },
  {
   "cell_type": "code",
   "execution_count": 28,
   "id": "edfb8d16",
   "metadata": {},
   "outputs": [
    {
     "data": {
      "text/plain": [
       "Text(0.5, 1.0, 'Arabaların aslen üretildikleri yerler')"
      ]
     },
     "execution_count": 28,
     "metadata": {},
     "output_type": "execute_result"
    },
    {
     "data": {
      "image/png": "[encoded data removed]",
      "text/plain": [
       "<Figure size 432x288 with 1 Axes>"
      ]
     },
     "metadata": {
      "needs_background": "light"
     },
     "output_type": "display_data"
    }
   ],
   "source": [
    "df.origin.value_counts().plot.barh().set_title(\"Arabaların aslen üretildikleri yerler\")"
   ]
  },
  {
   "cell_type": "code",
   "execution_count": 29,
   "id": "1898be2a",
   "metadata": {},
   "outputs": [
    {
     "data": {
      "text/plain": [
       "2    usa\n",
       "3    usa\n",
       "4    usa\n",
       "5    usa\n",
       "Name: origin, dtype: object"
      ]
     },
     "execution_count": 29,
     "metadata": {},
     "output_type": "execute_result"
    }
   ],
   "source": [
    "df.origin.loc[2:5]"
   ]
  },
  {
   "cell_type": "code",
   "execution_count": 30,
   "id": "b398927d",
   "metadata": {},
   "outputs": [
    {
     "data": {
      "text/plain": [
       "1     buick skylark 320\n",
       "2    plymouth satellite\n",
       "3         amc rebel sst\n",
       "4           ford torino\n",
       "5      ford galaxie 500\n",
       "6      chevrolet impala\n",
       "7     plymouth fury iii\n",
       "Name: name, dtype: object"
      ]
     },
     "execution_count": 30,
     "metadata": {},
     "output_type": "execute_result"
    }
   ],
   "source": [
    "df.name.loc[1:7]"
   ]
  },
  {
   "cell_type": "code",
   "execution_count": 31,
   "id": "3276907a",
   "metadata": {},
   "outputs": [
    {
     "data": {
      "text/plain": [
       "2    plymouth satellite\n",
       "3         amc rebel sst\n",
       "4           ford torino\n",
       "5      ford galaxie 500\n",
       "Name: name, dtype: object"
      ]
     },
     "execution_count": 31,
     "metadata": {},
     "output_type": "execute_result"
    }
   ],
   "source": [
    "df.name.iloc[2:6]"
   ]
  },
  {
   "cell_type": "code",
   "execution_count": 32,
   "id": "04e2f50f",
   "metadata": {},
   "outputs": [
    {
     "data": {
      "text/plain": [
       "2    usa\n",
       "3    usa\n",
       "4    usa\n",
       "5    usa\n",
       "Name: origin, dtype: object"
      ]
     },
     "execution_count": 32,
     "metadata": {},
     "output_type": "execute_result"
    }
   ],
   "source": [
    "df.origin.iloc[2:6]"
   ]
  },
  {
   "cell_type": "code",
   "execution_count": 49,
   "id": "2ee81658",
   "metadata": {},
   "outputs": [
    {
     "data": {
      "text/plain": [
       "305"
      ]
     },
     "execution_count": 49,
     "metadata": {},
     "output_type": "execute_result"
    }
   ],
   "source": [
    "len(pd.unique(df[\"name\"]))"
   ]
  },
  {
   "cell_type": "code",
   "execution_count": 51,
   "id": "e0c0090a",
   "metadata": {},
   "outputs": [
    {
     "data": {
      "text/plain": [
       "398"
      ]
     },
     "execution_count": 51,
     "metadata": {},
     "output_type": "execute_result"
    }
   ],
   "source": [
    "len(df.name)  #görüldüğü üzere araba isimleri genel olarak eşsiz denebilir"
   ]
  },
  {
   "cell_type": "markdown",
   "id": "d66b069c",
   "metadata": {},
   "source": [
    "# Barplot"
   ]
  },
  {
   "cell_type": "code",
   "execution_count": 34,
   "id": "993b8cc4",
   "metadata": {},
   "outputs": [
    {
     "data": {
      "text/plain": [
       "mpg             float64\n",
       "cylinders         int64\n",
       "displacement    float64\n",
       "horsepower      float64\n",
       "weight            int64\n",
       "acceleration    float64\n",
       "model_year        int64\n",
       "origin           object\n",
       "name             object\n",
       "dtype: object"
      ]
     },
     "execution_count": 34,
     "metadata": {},
     "output_type": "execute_result"
    }
   ],
   "source": [
    "df.dtypes"
   ]
  },
  {
   "cell_type": "code",
   "execution_count": 36,
   "id": "4fa1f70d",
   "metadata": {},
   "outputs": [
    {
     "data": {
      "text/plain": [
       "<AxesSubplot:xlabel='origin', ylabel='weight'>"
      ]
     },
     "execution_count": 36,
     "metadata": {},
     "output_type": "execute_result"
    },
    {
     "data": {
      "image/png": "[encoded data removed]",
      "text/plain": [
       "<Figure size 432x288 with 1 Axes>"
      ]
     },
     "metadata": {
      "needs_background": "light"
     },
     "output_type": "display_data"
    }
   ],
   "source": [
    "sns.barplot(x = \"origin\", y = \"weight\", data = df)"
   ]
  },
  {
   "cell_type": "code",
   "execution_count": 37,
   "id": "47314c65",
   "metadata": {},
   "outputs": [
    {
     "data": {
      "text/plain": [
       "<AxesSubplot:xlabel='origin', ylabel='model_year'>"
      ]
     },
     "execution_count": 37,
     "metadata": {},
     "output_type": "execute_result"
    },
    {
     "data": {
      "image/png": "[encoded data removed]",
      "text/plain": [
       "<Figure size 432x288 with 1 Axes>"
      ]
     },
     "metadata": {
      "needs_background": "light"
     },
     "output_type": "display_data"
    }
   ],
   "source": [
    "sns.barplot(x = \"origin\", y = \"model_year\", data = df)"
   ]
  },
  {
   "cell_type": "code",
   "execution_count": 38,
   "id": "f8cd1ae9",
   "metadata": {},
   "outputs": [
    {
     "data": {
      "text/plain": [
       "<AxesSubplot:xlabel='origin', ylabel='horsepower'>"
      ]
     },
     "execution_count": 38,
     "metadata": {},
     "output_type": "execute_result"
    },
    {
     "data": {
      "image/png": "[encoded data removed]",
      "text/plain": [
       "<Figure size 432x288 with 1 Axes>"
      ]
     },
     "metadata": {
      "needs_background": "light"
     },
     "output_type": "display_data"
    }
   ],
   "source": [
    "sns.barplot(x = \"origin\", y = \"horsepower\", data = df)"
   ]
  },
  {
   "cell_type": "code",
   "execution_count": 39,
   "id": "dda6e74d",
   "metadata": {},
   "outputs": [
    {
     "data": {
      "text/plain": [
       "<AxesSubplot:xlabel='origin', ylabel='displacement'>"
      ]
     },
     "execution_count": 39,
     "metadata": {},
     "output_type": "execute_result"
    },
    {
     "data": {
      "image/png": "[encoded data removed]",
      "text/plain": [
       "<Figure size 432x288 with 1 Axes>"
      ]
     },
     "metadata": {
      "needs_background": "light"
     },
     "output_type": "display_data"
    }
   ],
   "source": [
    "sns.barplot(x = \"origin\", y = \"displacement\", data = df)"
   ]
  },
  {
   "cell_type": "code",
   "execution_count": 40,
   "id": "7066d31d",
   "metadata": {},
   "outputs": [
    {
     "data": {
      "text/plain": [
       "<AxesSubplot:xlabel='origin', ylabel='cylinders'>"
      ]
     },
     "execution_count": 40,
     "metadata": {},
     "output_type": "execute_result"
    },
    {
     "data": {
      "image/png": "[encoded data removed]",
      "text/plain": [
       "<Figure size 432x288 with 1 Axes>"
      ]
     },
     "metadata": {
      "needs_background": "light"
     },
     "output_type": "display_data"
    }
   ],
   "source": [
    "sns.barplot(x = \"origin\", y = \"cylinders\", data = df)"
   ]
  },
  {
   "cell_type": "code",
   "execution_count": 41,
   "id": "b7a2a4e0",
   "metadata": {},
   "outputs": [
    {
     "data": {
      "text/plain": [
       "<AxesSubplot:xlabel='origin', ylabel='mpg'>"
      ]
     },
     "execution_count": 41,
     "metadata": {},
     "output_type": "execute_result"
    },
    {
     "data": {
      "image/png": "[encoded data removed]",
      "text/plain": [
       "<Figure size 432x288 with 1 Axes>"
      ]
     },
     "metadata": {
      "needs_background": "light"
     },
     "output_type": "display_data"
    }
   ],
   "source": [
    "sns.barplot(x = \"origin\", y = \"mpg\", data = df)"
   ]
  },
  {
   "cell_type": "code",
   "execution_count": 43,
   "id": "c7afd124",
   "metadata": {},
   "outputs": [
    {
     "data": {
      "image/png": "[encoded data removed]",
      "text/plain": [
       "<Figure size 432x288 with 1 Axes>"
      ]
     },
     "metadata": {
      "needs_background": "light"
     },
     "output_type": "display_data"
    }
   ],
   "source": [
    "sns.barplot(\n",
    "    x=\"origin\", \n",
    "    y=df.origin.index, \n",
    "    data=df, \n",
    "    estimator=sum, \n",
    "    ci=None, \n",
    "    color='#12c6a8'\n",
    ");"
   ]
  },
  {
   "cell_type": "code",
   "execution_count": 44,
   "id": "ee06e488",
   "metadata": {},
   "outputs": [
    {
     "data": {
      "image/png": "[encoded data removed]",
      "text/plain": [
       "<Figure size 432x288 with 1 Axes>"
      ]
     },
     "metadata": {
      "needs_background": "light"
     },
     "output_type": "display_data"
    }
   ],
   "source": [
    "sns.barplot(\n",
    "    x=df.origin.index, \n",
    "    y=\"origin\", \n",
    "    data=df, \n",
    "    estimator=sum, \n",
    "    ci=None, \n",
    "    color='#4123c2'\n",
    "); "
   ]
  },
  {
   "cell_type": "markdown",
   "id": "659cf91d",
   "metadata": {},
   "source": [
    "# Barplot çaprazlama"
   ]
  },
  {
   "cell_type": "code",
   "execution_count": 45,
   "id": "77c38056",
   "metadata": {},
   "outputs": [
    {
     "data": {
      "text/plain": [
       "<AxesSubplot:xlabel='origin', ylabel='acceleration'>"
      ]
     },
     "execution_count": 45,
     "metadata": {},
     "output_type": "execute_result"
    },
    {
     "data": {
      "image/png": "[encoded data removed]",
      "text/plain": [
       "<Figure size 432x288 with 1 Axes>"
      ]
     },
     "metadata": {
      "needs_background": "light"
     },
     "output_type": "display_data"
    }
   ],
   "source": [
    "sns.barplot(x = \"origin\", y = \"acceleration\", data = df)"
   ]
  },
  {
   "cell_type": "code",
   "execution_count": 52,
   "id": "2e2b028d",
   "metadata": {},
   "outputs": [
    {
     "data": {
      "text/html": [
       "<div>\n",
       "<style scoped>\n",
       "    .dataframe tbody tr th:only-of-type {\n",
       "        vertical-align: middle;\n",
       "    }\n",
       "\n",
       "    .dataframe tbody tr th {\n",
       "        vertical-align: top;\n",
       "    }\n",
       "\n",
       "    .dataframe thead th {\n",
       "        text-align: right;\n",
       "    }\n",
       "</style>\n",
       "<table border=\"1\" class=\"dataframe\">\n",
       "  <thead>\n",
       "    <tr style=\"text-align: right;\">\n",
       "      <th></th>\n",
       "      <th>mpg</th>\n",
       "      <th>cylinders</th>\n",
       "      <th>displacement</th>\n",
       "      <th>horsepower</th>\n",
       "      <th>weight</th>\n",
       "      <th>acceleration</th>\n",
       "      <th>model_year</th>\n",
       "      <th>origin</th>\n",
       "      <th>name</th>\n",
       "    </tr>\n",
       "  </thead>\n",
       "  <tbody>\n",
       "    <tr>\n",
       "      <th>0</th>\n",
       "      <td>18.0</td>\n",
       "      <td>8</td>\n",
       "      <td>307.0</td>\n",
       "      <td>130.0</td>\n",
       "      <td>3504</td>\n",
       "      <td>12.0</td>\n",
       "      <td>70</td>\n",
       "      <td>usa</td>\n",
       "      <td>chevrolet chevelle malibu</td>\n",
       "    </tr>\n",
       "    <tr>\n",
       "      <th>1</th>\n",
       "      <td>15.0</td>\n",
       "      <td>8</td>\n",
       "      <td>350.0</td>\n",
       "      <td>165.0</td>\n",
       "      <td>3693</td>\n",
       "      <td>11.5</td>\n",
       "      <td>70</td>\n",
       "      <td>usa</td>\n",
       "      <td>buick skylark 320</td>\n",
       "    </tr>\n",
       "    <tr>\n",
       "      <th>2</th>\n",
       "      <td>18.0</td>\n",
       "      <td>8</td>\n",
       "      <td>318.0</td>\n",
       "      <td>150.0</td>\n",
       "      <td>3436</td>\n",
       "      <td>11.0</td>\n",
       "      <td>70</td>\n",
       "      <td>usa</td>\n",
       "      <td>plymouth satellite</td>\n",
       "    </tr>\n",
       "    <tr>\n",
       "      <th>3</th>\n",
       "      <td>16.0</td>\n",
       "      <td>8</td>\n",
       "      <td>304.0</td>\n",
       "      <td>150.0</td>\n",
       "      <td>3433</td>\n",
       "      <td>12.0</td>\n",
       "      <td>70</td>\n",
       "      <td>usa</td>\n",
       "      <td>amc rebel sst</td>\n",
       "    </tr>\n",
       "    <tr>\n",
       "      <th>4</th>\n",
       "      <td>17.0</td>\n",
       "      <td>8</td>\n",
       "      <td>302.0</td>\n",
       "      <td>140.0</td>\n",
       "      <td>3449</td>\n",
       "      <td>10.5</td>\n",
       "      <td>70</td>\n",
       "      <td>usa</td>\n",
       "      <td>ford torino</td>\n",
       "    </tr>\n",
       "  </tbody>\n",
       "</table>\n",
       "</div>"
      ],
      "text/plain": [
       "    mpg  cylinders  displacement  horsepower  weight  acceleration  \\\n",
       "0  18.0          8         307.0       130.0    3504          12.0   \n",
       "1  15.0          8         350.0       165.0    3693          11.5   \n",
       "2  18.0          8         318.0       150.0    3436          11.0   \n",
       "3  16.0          8         304.0       150.0    3433          12.0   \n",
       "4  17.0          8         302.0       140.0    3449          10.5   \n",
       "\n",
       "   model_year origin                       name  \n",
       "0          70    usa  chevrolet chevelle malibu  \n",
       "1          70    usa          buick skylark 320  \n",
       "2          70    usa         plymouth satellite  \n",
       "3          70    usa              amc rebel sst  \n",
       "4          70    usa                ford torino  "
      ]
     },
     "execution_count": 52,
     "metadata": {},
     "output_type": "execute_result"
    }
   ],
   "source": [
    "df.head()"
   ]
  },
  {
   "cell_type": "code",
   "execution_count": 53,
   "id": "b605edad",
   "metadata": {},
   "outputs": [
    {
     "data": {
      "text/plain": [
       "<AxesSubplot:xlabel='origin', ylabel='displacement'>"
      ]
     },
     "execution_count": 53,
     "metadata": {},
     "output_type": "execute_result"
    },
    {
     "data": {
      "image/png": "[encoded data removed]",
      "text/plain": [
       "<Figure size 432x288 with 1 Axes>"
      ]
     },
     "metadata": {
      "needs_background": "light"
     },
     "output_type": "display_data"
    }
   ],
   "source": [
    "sns.barplot(x = \"origin\", y = \"displacement\", hue = \"model_year\", data = df)"
   ]
  },
  {
   "cell_type": "code",
   "execution_count": null,
   "id": "f8b08c23",
   "metadata": {},
   "outputs": [],
   "source": []
  }
 ],
 "metadata": {
  "kernelspec": {
   "display_name": "Python 3 (ipykernel)",
   "language": "python",
   "name": "python3"
  },
  "language_info": {
   "codemirror_mode": {
    "name": "ipython",
    "version": 3
   },
   "file_extension": ".py",
   "mimetype": "text/x-python",
   "name": "python",
   "nbconvert_exporter": "python",
   "pygments_lexer": "ipython3",
   "version": "3.9.7"
  }
 },
 "nbformat": 4,
 "nbformat_minor": 5
}
